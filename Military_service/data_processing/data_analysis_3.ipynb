{
 "cells": [
  {
   "cell_type": "code",
   "execution_count": 1,
   "metadata": {},
   "outputs": [],
   "source": [
    "import json\n",
    "from collections import Counter, defaultdict\n",
    "import os\n",
    "import numpy as np\n",
    "import pandas as pd\n",
    "import copy\n",
    "from datetime import datetime\n",
    "from scipy import stats\n",
    "import matplotlib.pyplot as plt\n",
    "import math\n",
    "import statsmodels.api as sm\n",
    "from sklearn.ensemble import RandomForestClassifier\n",
    "from xgboost import XGBRegressor, plot_importance \n",
    "import shap\n",
    "import seaborn as sns\n",
    "from scipy.stats import pearsonr\n",
    "from decimal import Decimal, getcontext\n",
    "getcontext().prec = 3\n"
   ]
  },
  {
   "cell_type": "code",
   "execution_count": 2,
   "metadata": {},
   "outputs": [],
   "source": [
    "def load_json(path):             # JSON 데이터 로드 함수\n",
    "    with open(path, \"r\", encoding=\"utf-8\") as f:\n",
    "        data = json.load(f)\n",
    "    return data\n",
    "\n",
    "def save_json(path, data):\n",
    "    with open(path, \"w\", encoding=\"utf-8\") as f:  # 인코딩을 UTF-8로 지정\n",
    "        json.dump(data, f, ensure_ascii=False, indent=\"\\t\")"
   ]
  },
  {
   "cell_type": "code",
   "execution_count": 6,
   "metadata": {},
   "outputs": [],
   "source": [
    "data = load_json(\"filtered_json_data_2024_filtered.json\")\n",
    "raw_meta_info = pd.read_csv(\"filtered_member_list_2024_filtered.csv\")"
   ]
  },
  {
   "cell_type": "code",
   "execution_count": 10,
   "metadata": {},
   "outputs": [],
   "source": [
    "def filter_users_with_interval(json_data, min_days=14, max_days=16):\n",
    "    valid_users = []  # 조건을 만족하는 사용자 ID를 저장할 리스트\n",
    "\n",
    "    for user_id, activities in json_data.items():\n",
    "        cesd_dates = []\n",
    "\n",
    "        # 각 사용자의 활동을 순회\n",
    "        for activity in activities:\n",
    "            content_name = activity.get(\"CONTENTS_NAME\", \"\")\n",
    "            date_str = activity.get(\"START_DATE\", \"\")  # 시작 날짜 정보를 가져옵니다.\n",
    "            \n",
    "            # CESD-10-D 검사 날짜를 수집\n",
    "            if content_name == \"cesd10d\" and date_str:\n",
    "                cesd_date = datetime.strptime(date_str, \"%Y-%m-%d %H:%M:%S\")\n",
    "                cesd_dates.append(cesd_date)\n",
    "\n",
    "        # CESD-10-D 검사를 두 번 이상 수행한 경우에만 날짜 간격을 확인\n",
    "        if len(cesd_dates) >= 2:\n",
    "            # 날짜 오름차순으로 정렬 후 간격 계산\n",
    "            cesd_dates.sort()\n",
    "            for i in range(1, len(cesd_dates)):\n",
    "                interval = (cesd_dates[i] - cesd_dates[i - 1]).days\n",
    "                # 간격이 14~16일 사이인 경우 valid_users에 추가하고 중지\n",
    "                if min_days <= interval <= max_days:\n",
    "                    valid_users.append(user_id)\n",
    "                    break\n",
    "    \n",
    "    return valid_users"
   ]
  },
  {
   "cell_type": "code",
   "execution_count": 11,
   "metadata": {},
   "outputs": [
    {
     "name": "stdout",
     "output_type": "stream",
     "text": [
      "14~16일 간격으로 CESD-10-D 검사를 수행한 사용자 수: 33\n"
     ]
    }
   ],
   "source": [
    "# 조건을 만족하는 사용자 ID 필터링\n",
    "valid_users = filter_users_with_interval(data)\n",
    "print(f\"14~16일 간격으로 CESD-10-D 검사를 수행한 사용자 수: {len(valid_users)}\")"
   ]
  }
 ],
 "metadata": {
  "kernelspec": {
   "display_name": "Python 3",
   "language": "python",
   "name": "python3"
  },
  "language_info": {
   "codemirror_mode": {
    "name": "ipython",
    "version": 3
   },
   "file_extension": ".py",
   "mimetype": "text/x-python",
   "name": "python",
   "nbconvert_exporter": "python",
   "pygments_lexer": "ipython3",
   "version": "3.12.3"
  }
 },
 "nbformat": 4,
 "nbformat_minor": 2
}
